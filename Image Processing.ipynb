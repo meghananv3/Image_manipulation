{
 "cells": [
  {
   "cell_type": "code",
   "execution_count": 7,
   "metadata": {},
   "outputs": [],
   "source": [
    "# importing the necessary packages\n",
    "import skimage.io\n",
    "import matplotlib"
   ]
  },
  {
   "cell_type": "code",
   "execution_count": 3,
   "metadata": {},
   "outputs": [
    {
     "data": {
      "text/plain": [
       "array([[[240, 242, 245, 255],\n",
       "        [240, 242, 245, 255],\n",
       "        [240, 242, 245, 255],\n",
       "        ...,\n",
       "        [241, 241, 241, 255],\n",
       "        [241, 241, 241, 255],\n",
       "        [241, 241, 241, 255]],\n",
       "\n",
       "       [[240, 242, 245, 255],\n",
       "        [240, 242, 245, 255],\n",
       "        [240, 242, 245, 255],\n",
       "        ...,\n",
       "        [241, 241, 241, 255],\n",
       "        [241, 241, 241, 255],\n",
       "        [241, 241, 241, 255]],\n",
       "\n",
       "       [[240, 242, 245, 255],\n",
       "        [240, 242, 245, 255],\n",
       "        [240, 242, 245, 255],\n",
       "        ...,\n",
       "        [241, 241, 241, 255],\n",
       "        [241, 241, 241, 255],\n",
       "        [241, 241, 241, 255]],\n",
       "\n",
       "       ...,\n",
       "\n",
       "       [[255, 255, 255, 255],\n",
       "        [255, 255, 255, 255],\n",
       "        [255, 255, 255, 255],\n",
       "        ...,\n",
       "        [241, 241, 241, 255],\n",
       "        [241, 241, 241, 255],\n",
       "        [241, 241, 241, 255]],\n",
       "\n",
       "       [[255, 255, 255, 255],\n",
       "        [255, 255, 255, 255],\n",
       "        [255, 255, 255, 255],\n",
       "        ...,\n",
       "        [241, 241, 241, 255],\n",
       "        [241, 241, 241, 255],\n",
       "        [241, 241, 241, 255]],\n",
       "\n",
       "       [[255, 255, 255, 255],\n",
       "        [255, 255, 255, 255],\n",
       "        [255, 255, 255, 255],\n",
       "        ...,\n",
       "        [241, 241, 241, 255],\n",
       "        [241, 241, 241, 255],\n",
       "        [241, 241, 241, 255]]], dtype=uint8)"
      ]
     },
     "execution_count": 3,
     "metadata": {},
     "output_type": "execute_result"
    }
   ],
   "source": [
    "# reading the image as a numpy array\n",
    "image1 = skimage.io.imread(fname=r\"C:\\Users\\HP\\Downloads\\image zip (2) (1) (1)\\full_image.png\")\n",
    "image1"
   ]
  },
  {
   "cell_type": "code",
   "execution_count": 4,
   "metadata": {},
   "outputs": [
    {
     "name": "stderr",
     "output_type": "stream",
     "text": [
      "C:\\Users\\HP\\Anaconda3\\lib\\site-packages\\skimage\\viewer\\utils\\__init__.py:1: UserWarning: Recommended matplotlib backend is `Agg` for full skimage.viewer functionality.\n",
      "  from .core import *\n"
     ]
    },
    {
     "data": {
      "text/plain": [
       "[]"
      ]
     },
     "execution_count": 4,
     "metadata": {},
     "output_type": "execute_result"
    }
   ],
   "source": [
    "# viewing the image \n",
    "import skimage.viewer\n",
    "\n",
    "# display image\n",
    "viewer = skimage.viewer.ImageViewer(image1)\n",
    "viewer.show()"
   ]
  },
  {
   "cell_type": "code",
   "execution_count": 9,
   "metadata": {},
   "outputs": [],
   "source": [
    "# importing the packages neccessary for image plotting\n",
    "from PIL import Image\n",
    "from pylab import *"
   ]
  },
  {
   "cell_type": "code",
   "execution_count": 16,
   "metadata": {},
   "outputs": [
    {
     "data": {
      "image/png": "[encoded data removed]",
      "text/plain": [
       "<Figure size 432x288 with 1 Axes>"
      ]
     },
     "metadata": {
      "needs_background": "light"
     },
     "output_type": "display_data"
    }
   ],
   "source": [
    "# plotting the image in a cartesian plane\n",
    "imshow(image1)\n",
    "x = []\n",
    "y = []\n",
    "plot(x,y)\n",
    "title('Plotting')\n",
    "show()"
   ]
  },
  {
   "cell_type": "code",
   "execution_count": 17,
   "metadata": {},
   "outputs": [
    {
     "data": {
      "text/plain": [
       "[]"
      ]
     },
     "execution_count": 17,
     "metadata": {},
     "output_type": "execute_result"
    }
   ],
   "source": [
    "# extracting the required sub_image by specifying the coordinates.\n",
    "clip = image1[400:500, 1100:1481, :]\n",
    "viewer = skimage.viewer.ImageViewer(clip)\n",
    "viewer.show()"
   ]
  },
  {
   "cell_type": "code",
   "execution_count": null,
   "metadata": {},
   "outputs": [],
   "source": []
  }
 ],
 "metadata": {
  "kernelspec": {
   "display_name": "Python 3",
   "language": "python",
   "name": "python3"
  },
  "language_info": {
   "codemirror_mode": {
    "name": "ipython",
    "version": 3
   },
   "file_extension": ".py",
   "mimetype": "text/x-python",
   "name": "python",
   "nbconvert_exporter": "python",
   "pygments_lexer": "ipython3",
   "version": "3.7.3"
  }
 },
 "nbformat": 4,
 "nbformat_minor": 4
}
